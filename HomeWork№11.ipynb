{
 "cells": [
  {
   "cell_type": "code",
   "execution_count": 1,
   "id": "initial_id",
   "metadata": {
    "collapsed": true,
    "ExecuteTime": {
     "end_time": "2023-10-06T19:40:49.406748700Z",
     "start_time": "2023-10-06T19:40:34.223066200Z"
    }
   },
   "outputs": [],
   "source": [
    "import pandas as pd\n",
    "import numpy as np\n",
    "from sklearn.preprocessing import LabelEncoder\n",
    "from sklearn.feature_extraction.text import CountVectorizer, TfidfVectorizer\n",
    "from sklearn.linear_model import LogisticRegression\n",
    "from sklearn.neighbors import KNeighborsClassifier\n",
    "from sklearn.model_selection import train_test_split\n",
    "from sklearn.ensemble import RandomForestClassifier\n",
    "from sklearn.metrics import accuracy_score, recall_score, f1_score, precision_score\n",
    "import nltk\n",
    "from nltk.corpus import stopwords\n",
    "from langdetect import detect\n",
    "import re\n",
    "from translate import Translator\n",
    "import spacy"
   ]
  },
  {
   "cell_type": "code",
   "execution_count": 2,
   "outputs": [
    {
     "data": {
      "text/plain": "                                                  review sentiment\n0      One of the other reviewers has mentioned that ...  positive\n1      A wonderful little production. <br /><br />The...  positive\n2      I thought this was a wonderful way to spend ti...  positive\n3      Basically there's a family where a little boy ...  negative\n4      Petter Mattei's \"Love in the Time of Money\" is...  positive\n...                                                  ...       ...\n49995  I thought this movie did a down right good job...  positive\n49996  Bad plot, bad dialogue, bad acting, idiotic di...  negative\n49997  I am a Catholic taught in parochial elementary...  negative\n49998  I'm going to have to disagree with the previou...  negative\n49999  No one expects the Star Trek movies to be high...  negative\n\n[50000 rows x 2 columns]",
      "text/html": "<div>\n<style scoped>\n    .dataframe tbody tr th:only-of-type {\n        vertical-align: middle;\n    }\n\n    .dataframe tbody tr th {\n        vertical-align: top;\n    }\n\n    .dataframe thead th {\n        text-align: right;\n    }\n</style>\n<table border=\"1\" class=\"dataframe\">\n  <thead>\n    <tr style=\"text-align: right;\">\n      <th></th>\n      <th>review</th>\n      <th>sentiment</th>\n    </tr>\n  </thead>\n  <tbody>\n    <tr>\n      <th>0</th>\n      <td>One of the other reviewers has mentioned that ...</td>\n      <td>positive</td>\n    </tr>\n    <tr>\n      <th>1</th>\n      <td>A wonderful little production. &lt;br /&gt;&lt;br /&gt;The...</td>\n      <td>positive</td>\n    </tr>\n    <tr>\n      <th>2</th>\n      <td>I thought this was a wonderful way to spend ti...</td>\n      <td>positive</td>\n    </tr>\n    <tr>\n      <th>3</th>\n      <td>Basically there's a family where a little boy ...</td>\n      <td>negative</td>\n    </tr>\n    <tr>\n      <th>4</th>\n      <td>Petter Mattei's \"Love in the Time of Money\" is...</td>\n      <td>positive</td>\n    </tr>\n    <tr>\n      <th>...</th>\n      <td>...</td>\n      <td>...</td>\n    </tr>\n    <tr>\n      <th>49995</th>\n      <td>I thought this movie did a down right good job...</td>\n      <td>positive</td>\n    </tr>\n    <tr>\n      <th>49996</th>\n      <td>Bad plot, bad dialogue, bad acting, idiotic di...</td>\n      <td>negative</td>\n    </tr>\n    <tr>\n      <th>49997</th>\n      <td>I am a Catholic taught in parochial elementary...</td>\n      <td>negative</td>\n    </tr>\n    <tr>\n      <th>49998</th>\n      <td>I'm going to have to disagree with the previou...</td>\n      <td>negative</td>\n    </tr>\n    <tr>\n      <th>49999</th>\n      <td>No one expects the Star Trek movies to be high...</td>\n      <td>negative</td>\n    </tr>\n  </tbody>\n</table>\n<p>50000 rows × 2 columns</p>\n</div>"
     },
     "execution_count": 2,
     "metadata": {},
     "output_type": "execute_result"
    }
   ],
   "source": [
    "df = pd.read_csv('C:/Users/lemes/OneDrive/Рабочий стол/dz/IMDB Dataset.csv')\n",
    "df"
   ],
   "metadata": {
    "collapsed": false,
    "ExecuteTime": {
     "end_time": "2023-10-06T19:40:52.489051800Z",
     "start_time": "2023-10-06T19:40:51.866360500Z"
    }
   },
   "id": "e881dc3b45de09e1"
  },
  {
   "cell_type": "code",
   "execution_count": 3,
   "outputs": [
    {
     "data": {
      "text/plain": "       review sentiment\ncount   50000     50000\nunique      1         1\ntop     False     False\nfreq    50000     50000",
      "text/html": "<div>\n<style scoped>\n    .dataframe tbody tr th:only-of-type {\n        vertical-align: middle;\n    }\n\n    .dataframe tbody tr th {\n        vertical-align: top;\n    }\n\n    .dataframe thead th {\n        text-align: right;\n    }\n</style>\n<table border=\"1\" class=\"dataframe\">\n  <thead>\n    <tr style=\"text-align: right;\">\n      <th></th>\n      <th>review</th>\n      <th>sentiment</th>\n    </tr>\n  </thead>\n  <tbody>\n    <tr>\n      <th>count</th>\n      <td>50000</td>\n      <td>50000</td>\n    </tr>\n    <tr>\n      <th>unique</th>\n      <td>1</td>\n      <td>1</td>\n    </tr>\n    <tr>\n      <th>top</th>\n      <td>False</td>\n      <td>False</td>\n    </tr>\n    <tr>\n      <th>freq</th>\n      <td>50000</td>\n      <td>50000</td>\n    </tr>\n  </tbody>\n</table>\n</div>"
     },
     "execution_count": 3,
     "metadata": {},
     "output_type": "execute_result"
    }
   ],
   "source": [
    "df.isna().describe()"
   ],
   "metadata": {
    "collapsed": false,
    "ExecuteTime": {
     "end_time": "2023-10-06T14:47:10.647915500Z",
     "start_time": "2023-10-06T14:47:10.565386200Z"
    }
   },
   "id": "3cd72e10740efda5"
  },
  {
   "cell_type": "code",
   "execution_count": 4,
   "outputs": [
    {
     "data": {
      "text/plain": "           review\nsentiment        \nnegative    25000\npositive    25000",
      "text/html": "<div>\n<style scoped>\n    .dataframe tbody tr th:only-of-type {\n        vertical-align: middle;\n    }\n\n    .dataframe tbody tr th {\n        vertical-align: top;\n    }\n\n    .dataframe thead th {\n        text-align: right;\n    }\n</style>\n<table border=\"1\" class=\"dataframe\">\n  <thead>\n    <tr style=\"text-align: right;\">\n      <th></th>\n      <th>review</th>\n    </tr>\n    <tr>\n      <th>sentiment</th>\n      <th></th>\n    </tr>\n  </thead>\n  <tbody>\n    <tr>\n      <th>negative</th>\n      <td>25000</td>\n    </tr>\n    <tr>\n      <th>positive</th>\n      <td>25000</td>\n    </tr>\n  </tbody>\n</table>\n</div>"
     },
     "execution_count": 4,
     "metadata": {},
     "output_type": "execute_result"
    }
   ],
   "source": [
    "df.groupby('sentiment').count()"
   ],
   "metadata": {
    "collapsed": false,
    "ExecuteTime": {
     "end_time": "2023-10-06T14:47:12.358909900Z",
     "start_time": "2023-10-06T14:47:12.222548500Z"
    }
   },
   "id": "dde45b02d6dc3ca"
  },
  {
   "cell_type": "code",
   "execution_count": 3,
   "outputs": [
    {
     "data": {
      "text/plain": "           review\nsentiment        \n0           25000\n1           25000",
      "text/html": "<div>\n<style scoped>\n    .dataframe tbody tr th:only-of-type {\n        vertical-align: middle;\n    }\n\n    .dataframe tbody tr th {\n        vertical-align: top;\n    }\n\n    .dataframe thead th {\n        text-align: right;\n    }\n</style>\n<table border=\"1\" class=\"dataframe\">\n  <thead>\n    <tr style=\"text-align: right;\">\n      <th></th>\n      <th>review</th>\n    </tr>\n    <tr>\n      <th>sentiment</th>\n      <th></th>\n    </tr>\n  </thead>\n  <tbody>\n    <tr>\n      <th>0</th>\n      <td>25000</td>\n    </tr>\n    <tr>\n      <th>1</th>\n      <td>25000</td>\n    </tr>\n  </tbody>\n</table>\n</div>"
     },
     "execution_count": 3,
     "metadata": {},
     "output_type": "execute_result"
    }
   ],
   "source": [
    "lb_encoder = LabelEncoder()\n",
    "df['sentiment'] = lb_encoder.fit_transform(df['sentiment'])\n",
    "df.groupby('sentiment').count()"
   ],
   "metadata": {
    "collapsed": false,
    "ExecuteTime": {
     "end_time": "2023-10-06T19:40:58.237757400Z",
     "start_time": "2023-10-06T19:40:58.096494800Z"
    }
   },
   "id": "19d35c929da8bb8f"
  },
  {
   "cell_type": "code",
   "execution_count": 8,
   "outputs": [
    {
     "name": "stderr",
     "output_type": "stream",
     "text": [
      "[nltk_data] Downloading package stopwords to\n",
      "[nltk_data]     C:\\Users\\lemes\\AppData\\Roaming\\nltk_data...\n",
      "[nltk_data]   Package stopwords is already up-to-date!\n"
     ]
    },
    {
     "data": {
      "text/plain": "['i',\n 'me',\n 'my',\n 'myself',\n 'we',\n 'our',\n 'ours',\n 'ourselves',\n 'you',\n \"you're\",\n \"you've\",\n \"you'll\",\n \"you'd\",\n 'your',\n 'yours',\n 'yourself',\n 'yourselves',\n 'he',\n 'him',\n 'his',\n 'himself',\n 'she',\n \"she's\",\n 'her',\n 'hers',\n 'herself',\n 'it',\n \"it's\",\n 'its',\n 'itself',\n 'they',\n 'them',\n 'their',\n 'theirs',\n 'themselves',\n 'what',\n 'which',\n 'who',\n 'whom',\n 'this',\n 'that',\n \"that'll\",\n 'these',\n 'those',\n 'am',\n 'is',\n 'are',\n 'was',\n 'were',\n 'be',\n 'been',\n 'being',\n 'have',\n 'has',\n 'had',\n 'having',\n 'do',\n 'does',\n 'did',\n 'doing',\n 'a',\n 'an',\n 'the',\n 'and',\n 'but',\n 'if',\n 'or',\n 'because',\n 'as',\n 'until',\n 'while',\n 'of',\n 'at',\n 'by',\n 'for',\n 'with',\n 'about',\n 'against',\n 'between',\n 'into',\n 'through',\n 'during',\n 'before',\n 'after',\n 'above',\n 'below',\n 'to',\n 'from',\n 'up',\n 'down',\n 'in',\n 'out',\n 'on',\n 'off',\n 'over',\n 'under',\n 'again',\n 'further',\n 'then',\n 'once',\n 'here',\n 'there',\n 'when',\n 'where',\n 'why',\n 'how',\n 'all',\n 'any',\n 'both',\n 'each',\n 'few',\n 'more',\n 'most',\n 'other',\n 'some',\n 'such',\n 'no',\n 'nor',\n 'not',\n 'only',\n 'own',\n 'same',\n 'so',\n 'than',\n 'too',\n 'very',\n 's',\n 't',\n 'can',\n 'will',\n 'just',\n 'don',\n \"don't\",\n 'should',\n \"should've\",\n 'now',\n 'd',\n 'll',\n 'm',\n 'o',\n 're',\n 've',\n 'y',\n 'ain',\n 'aren',\n \"aren't\",\n 'couldn',\n \"couldn't\",\n 'didn',\n \"didn't\",\n 'doesn',\n \"doesn't\",\n 'hadn',\n \"hadn't\",\n 'hasn',\n \"hasn't\",\n 'haven',\n \"haven't\",\n 'isn',\n \"isn't\",\n 'ma',\n 'mightn',\n \"mightn't\",\n 'mustn',\n \"mustn't\",\n 'needn',\n \"needn't\",\n 'shan',\n \"shan't\",\n 'shouldn',\n \"shouldn't\",\n 'wasn',\n \"wasn't\",\n 'weren',\n \"weren't\",\n 'won',\n \"won't\",\n 'wouldn',\n \"wouldn't\"]"
     },
     "execution_count": 8,
     "metadata": {},
     "output_type": "execute_result"
    }
   ],
   "source": [
    "# витягнемо стоп слова з nltk\n",
    "nltk.download('stopwords')\n",
    "words_stop = stopwords.words('english')\n",
    "words_stop"
   ],
   "metadata": {
    "collapsed": false,
    "ExecuteTime": {
     "end_time": "2023-10-06T19:42:44.074499900Z",
     "start_time": "2023-10-06T19:42:43.747701600Z"
    }
   },
   "id": "5002efd053d1f6c9"
  },
  {
   "cell_type": "code",
   "execution_count": 7,
   "outputs": [
    {
     "data": {
      "text/plain": "          review  sentiment\nlanguage                   \nen         49999      49999\nid             1          1",
      "text/html": "<div>\n<style scoped>\n    .dataframe tbody tr th:only-of-type {\n        vertical-align: middle;\n    }\n\n    .dataframe tbody tr th {\n        vertical-align: top;\n    }\n\n    .dataframe thead th {\n        text-align: right;\n    }\n</style>\n<table border=\"1\" class=\"dataframe\">\n  <thead>\n    <tr style=\"text-align: right;\">\n      <th></th>\n      <th>review</th>\n      <th>sentiment</th>\n    </tr>\n    <tr>\n      <th>language</th>\n      <th></th>\n      <th></th>\n    </tr>\n  </thead>\n  <tbody>\n    <tr>\n      <th>en</th>\n      <td>49999</td>\n      <td>49999</td>\n    </tr>\n    <tr>\n      <th>id</th>\n      <td>1</td>\n      <td>1</td>\n    </tr>\n  </tbody>\n</table>\n</div>"
     },
     "execution_count": 7,
     "metadata": {},
     "output_type": "execute_result"
    }
   ],
   "source": [
    "# подивимось, чи всі записи у нас написанні англійскою мовою\n",
    "df['language'] = df['review'].apply(lambda x: detect(x))\n",
    "df.groupby('language').count()"
   ],
   "metadata": {
    "collapsed": false,
    "ExecuteTime": {
     "end_time": "2023-10-06T14:50:51.688961300Z",
     "start_time": "2023-10-06T14:47:24.384090400Z"
    }
   },
   "id": "a6e57cb2505d1eb1"
  },
  {
   "cell_type": "code",
   "execution_count": 8,
   "outputs": [
    {
     "data": {
      "text/plain": "45315    .....whoops - looks like it's gonna cost you a...\nName: review, dtype: object"
     },
     "execution_count": 8,
     "metadata": {},
     "output_type": "execute_result"
    }
   ],
   "source": [
    "df.query(\"language == 'id'\")['review']"
   ],
   "metadata": {
    "collapsed": false,
    "ExecuteTime": {
     "end_time": "2023-10-06T14:52:02.526224100Z",
     "start_time": "2023-10-06T14:52:02.429503600Z"
    }
   },
   "id": "2a19c5ee6a995fdd"
  },
  {
   "cell_type": "code",
   "execution_count": 12,
   "outputs": [],
   "source": [
    "def custom_preprocessor(text):\n",
    "    # видалення всіх символів, окрім букв та пробелів\n",
    "    text = re.sub(r'[^a-zA-Z\\s]', '', text)\n",
    "    return text"
   ],
   "metadata": {
    "collapsed": false,
    "ExecuteTime": {
     "end_time": "2023-10-07T09:14:06.708953900Z",
     "start_time": "2023-10-07T09:14:06.667599700Z"
    }
   },
   "id": "b6fd41c34ff1eb43"
  },
  {
   "cell_type": "code",
   "execution_count": 10,
   "outputs": [
    {
     "data": {
      "text/plain": "'whoops  looks like its gonna cost you a whopping  to buy a copy either DVD or Video formatfrom ITV directbr br Ouchbr br Sorry about this but IMDB wont let me submi'"
     },
     "execution_count": 10,
     "metadata": {},
     "output_type": "execute_result"
    }
   ],
   "source": [
    "t = \".....whoops - looks like it's gonna cost you a whopping £198.00 to buy a copy (either DVD or Video format)from ITV direct.<br /><br />Ouch.<br /><br />Sorry about this, but IMDB won't let me submi...\"\n",
    "custom_preprocessor(t)"
   ],
   "metadata": {
    "collapsed": false,
    "ExecuteTime": {
     "end_time": "2023-10-06T14:52:20.694311800Z",
     "start_time": "2023-10-06T14:52:20.653078500Z"
    }
   },
   "id": "c0aa8c17a15b102a"
  },
  {
   "cell_type": "code",
   "execution_count": 11,
   "outputs": [
    {
     "name": "stderr",
     "output_type": "stream",
     "text": [
      "C:\\Users\\lemes\\AppData\\Local\\Programs\\Python\\Python311\\Lib\\site-packages\\sklearn\\feature_extraction\\text.py:408: UserWarning: Your stop_words may be inconsistent with your preprocessing. Tokenizing the stop words generated tokens ['arent', 'couldnt', 'didnt', 'doesnt', 'dont', 'hadnt', 'hasnt', 'havent', 'isnt', 'mightnt', 'mustnt', 'neednt', 'shant', 'shes', 'shouldnt', 'shouldve', 'thatll', 'wasnt', 'werent', 'wont', 'wouldnt', 'youd', 'youll', 'youre', 'youve'] not in stop_words.\n",
      "  warnings.warn(\n"
     ]
    }
   ],
   "source": [
    "model = CountVectorizer(strip_accents='unicode', stop_words=words_stop, preprocessor=custom_preprocessor, min_df=5, dtype=np.int32)\n",
    "X = model.fit_transform(df['review'])"
   ],
   "metadata": {
    "collapsed": false,
    "ExecuteTime": {
     "end_time": "2023-10-06T14:52:34.372237900Z",
     "start_time": "2023-10-06T14:52:23.972318300Z"
    }
   },
   "id": "de1b8806a1da7cce"
  },
  {
   "cell_type": "code",
   "execution_count": 12,
   "outputs": [
    {
     "data": {
      "text/plain": "array(['AA', 'AAA', 'AB', ..., 'zoomin', 'zooming', 'zooms'], dtype=object)"
     },
     "execution_count": 12,
     "metadata": {},
     "output_type": "execute_result"
    }
   ],
   "source": [
    "model.get_feature_names_out()"
   ],
   "metadata": {
    "collapsed": false,
    "ExecuteTime": {
     "end_time": "2023-10-06T14:52:37.853675900Z",
     "start_time": "2023-10-06T14:52:37.749472400Z"
    }
   },
   "id": "71dc9ae7acafd9d1"
  },
  {
   "cell_type": "code",
   "execution_count": 13,
   "outputs": [],
   "source": [
    "train, test = train_test_split(X, train_size=0.5, shuffle=False)"
   ],
   "metadata": {
    "collapsed": false,
    "ExecuteTime": {
     "end_time": "2023-10-06T14:52:41.215577400Z",
     "start_time": "2023-10-06T14:52:41.133848700Z"
    }
   },
   "id": "774f5f1cbdfc3e3"
  },
  {
   "cell_type": "code",
   "execution_count": 4,
   "outputs": [],
   "source": [
    "target_train, target_test = train_test_split(df['sentiment'], train_size=0.5, shuffle=False)"
   ],
   "metadata": {
    "collapsed": false,
    "ExecuteTime": {
     "end_time": "2023-10-06T19:41:29.078119100Z",
     "start_time": "2023-10-06T19:41:29.015970500Z"
    }
   },
   "id": "e15e66297a89386b"
  },
  {
   "cell_type": "code",
   "execution_count": 23,
   "outputs": [],
   "source": [
    "def make_clasifier(tree, depth):\n",
    "    model_clasifier = RandomForestClassifier(n_estimators=tree, max_depth=depth, n_jobs=-1, random_state=13).fit(train, target_train)\n",
    "    predict_train = model_clasifier.predict(train)\n",
    "    accuracy_train = accuracy_score(target_train, predict_train)\n",
    "    precision_train =  precision_score(target_train, predict_train)\n",
    "    recall_train = recall_score(target_train, predict_train)\n",
    "    f1_train = f1_score(target_train, predict_train) \n",
    "    predict_test = model_clasifier.predict(test)\n",
    "    accuracy_test = accuracy_score(target_test, predict_test)\n",
    "    precision_test =  precision_score(target_test, predict_test)\n",
    "    recall_test = recall_score(target_test, predict_test)\n",
    "    f1_test = f1_score(target_test, predict_test)\n",
    "    msg = f'Модель відпрацювала з такими данними:\\nнавчальна виборка\\naccuracy : {accuracy_train}\\nprecision : {precision_train}\\nrecall : {recall_train}\\nf1 : {f1_train}\\n\\n\\nТестова частина:\\naccuracy : {accuracy_test}\\nprecision : {precision_test}\\nrecall : {recall_test}\\nf1 : {f1_test}'\n",
    "    return {'predict_train':predict_train, 'accuracy_train':accuracy_train, 'precision_train':precision_train, 'recall_train':recall_train, 'f1_train':f1_train, 'predict_test':predict_test, 'accuracy_test':accuracy_test, 'precision_test':precision_test, 'recall_test':recall_test, 'f1_test':f1_test, 'msg':msg, 'model':model_clasifier}\n",
    "    "
   ],
   "metadata": {
    "collapsed": false,
    "ExecuteTime": {
     "end_time": "2023-10-07T09:32:54.685368500Z",
     "start_time": "2023-10-07T09:32:54.668481Z"
    }
   },
   "id": "2447ee4d26180398"
  },
  {
   "cell_type": "code",
   "execution_count": 16,
   "outputs": [],
   "source": [
    "max_param = make_clasifier(tree=500,depth=1000)"
   ],
   "metadata": {
    "collapsed": false,
    "ExecuteTime": {
     "end_time": "2023-10-06T14:56:08.549985400Z",
     "start_time": "2023-10-06T14:52:59.493376Z"
    }
   },
   "id": "482f55ec4a2c9aac"
  },
  {
   "cell_type": "code",
   "execution_count": 17,
   "outputs": [
    {
     "name": "stdout",
     "output_type": "stream",
     "text": [
      "Модель відпрацювала з такими данними:\n",
      "навчальна виборка\n",
      "accuracy : 1.0\n",
      "precision : 1.0\n",
      "recall : 1.0\n",
      "f1 : 1.0\n",
      "\n",
      "\n",
      "Тестова частина:\n",
      "accuracy : 0.86152\n",
      "precision : 0.8634322373696872\n",
      "recall : 0.8595720900526904\n",
      "f1 : 0.8614978396543447\n"
     ]
    }
   ],
   "source": [
    "print(max_param['msg'])"
   ],
   "metadata": {
    "collapsed": false,
    "ExecuteTime": {
     "end_time": "2023-10-06T14:56:23.995752600Z",
     "start_time": "2023-10-06T14:56:23.949055700Z"
    }
   },
   "id": "9a12041326bcba2d"
  },
  {
   "cell_type": "code",
   "execution_count": null,
   "outputs": [],
   "source": [
    "acc = []\n",
    "param = []\n",
    "for i in range(1,50):\n",
    "    print(f'Зараз робим {i} ітерацію')\n",
    "    proba = make_clasifier(tree=500,depth=i)\n",
    "    acc.append(proba['accuracy_test'])\n",
    "    param.append([proba['accuracy_test'], proba['precision_test'], proba['recall_test'], proba['f1_test']])"
   ],
   "metadata": {
    "collapsed": false,
    "ExecuteTime": {
     "start_time": "2023-10-04T11:01:44.904931Z"
    }
   },
   "id": "9caa8e38fad85615"
  },
  {
   "cell_type": "code",
   "execution_count": null,
   "outputs": [],
   "source": [
    "param[acc.index(max(acc))]"
   ],
   "metadata": {
    "collapsed": false,
    "ExecuteTime": {
     "end_time": "2023-10-04T11:01:44.918908600Z",
     "start_time": "2023-10-04T11:01:44.906460900Z"
    }
   },
   "id": "41f835baebc5220"
  },
  {
   "cell_type": "code",
   "execution_count": null,
   "outputs": [],
   "source": [
    "param"
   ],
   "metadata": {
    "collapsed": false,
    "ExecuteTime": {
     "start_time": "2023-10-04T11:01:44.909453700Z"
    }
   },
   "id": "ad53bcf845d1cba4"
  },
  {
   "cell_type": "code",
   "execution_count": null,
   "outputs": [],
   "source": [
    "acc.index(max(acc))\n",
    "# обиремо глибину наших дерев 43"
   ],
   "metadata": {
    "collapsed": false,
    "ExecuteTime": {
     "start_time": "2023-10-04T11:01:44.911845700Z"
    }
   },
   "id": "11ab1046e71bafab"
  },
  {
   "cell_type": "code",
   "execution_count": null,
   "outputs": [],
   "source": [
    "# подивимось що видасть нам менше дерев\n",
    "tree = make_clasifier(tree=500,depth=43)"
   ],
   "metadata": {
    "collapsed": false,
    "ExecuteTime": {
     "start_time": "2023-10-04T11:01:44.914103900Z"
    }
   },
   "id": "9139741b3b06ab16"
  },
  {
   "cell_type": "code",
   "execution_count": null,
   "outputs": [],
   "source": [
    "acc = []\n",
    "param = []\n",
    "for i in range(1,501):\n",
    "    print(f'Зараз робим {i} ітерацію')\n",
    "    proba = make_clasifier(tree=i,depth=43)\n",
    "    acc.append(proba['accuracy_test'])\n",
    "    param.append([proba['accuracy_test'], proba['precision_test'], proba['recall_test'], proba['f1_test']])"
   ],
   "metadata": {
    "collapsed": false,
    "ExecuteTime": {
     "start_time": "2023-10-04T11:01:44.917435600Z"
    }
   },
   "id": "c7cdd18242e10f76"
  },
  {
   "cell_type": "code",
   "execution_count": null,
   "outputs": [],
   "source": [
    "max(acc)"
   ],
   "metadata": {
    "collapsed": false,
    "ExecuteTime": {
     "end_time": "2023-10-04T11:01:44.983200700Z",
     "start_time": "2023-10-04T11:01:44.920237400Z"
    }
   },
   "id": "979bf6f3ce2011fd"
  },
  {
   "cell_type": "code",
   "execution_count": null,
   "outputs": [],
   "source": [
    "param[acc.index(max(acc))]"
   ],
   "metadata": {
    "collapsed": false,
    "ExecuteTime": {
     "start_time": "2023-10-04T11:01:44.922496900Z"
    }
   },
   "id": "aac8bc0dca40b93d"
  },
  {
   "cell_type": "code",
   "execution_count": null,
   "outputs": [],
   "source": [
    "acc.index(max(acc))"
   ],
   "metadata": {
    "collapsed": false,
    "ExecuteTime": {
     "start_time": "2023-10-04T11:01:44.925807700Z"
    }
   },
   "id": "f638921731a69ec4"
  },
  {
   "cell_type": "code",
   "execution_count": 20,
   "outputs": [],
   "source": [
    "# Найкращі параметри моделі\n",
    "base_line = make_clasifier(tree=500,depth=43)"
   ],
   "metadata": {
    "collapsed": false,
    "ExecuteTime": {
     "end_time": "2023-10-06T15:00:09.835592500Z",
     "start_time": "2023-10-06T14:58:53.749017100Z"
    }
   },
   "id": "a4c22b0428816b97"
  },
  {
   "cell_type": "code",
   "execution_count": 21,
   "outputs": [
    {
     "name": "stdout",
     "output_type": "stream",
     "text": [
      "Модель відпрацювала з такими данними:\n",
      "навчальна виборка\n",
      "accuracy : 0.97924\n",
      "precision : 0.9649941656942824\n",
      "recall : 0.9944684944684945\n",
      "f1 : 0.9795096529669549\n",
      "\n",
      "\n",
      "Тестова частина:\n",
      "accuracy : 0.8588\n",
      "precision : 0.8523973675963648\n",
      "recall : 0.8685933258821651\n",
      "f1 : 0.8604191379992092\n"
     ]
    }
   ],
   "source": [
    "print(base_line['msg'])"
   ],
   "metadata": {
    "collapsed": false,
    "ExecuteTime": {
     "end_time": "2023-10-06T15:00:12.081140100Z",
     "start_time": "2023-10-06T15:00:12.050516300Z"
    }
   },
   "id": "cc3a673b972ffc5a"
  },
  {
   "cell_type": "code",
   "execution_count": 22,
   "outputs": [
    {
     "data": {
      "text/plain": "array(['negative'], dtype=object)"
     },
     "execution_count": 22,
     "metadata": {},
     "output_type": "execute_result"
    }
   ],
   "source": [
    "#Подивимось як він працює, спробуємо написати свій відгук\n",
    "coments = str(input('Введіть ваш коментар'))\n",
    "translator = Translator(to_lang=\"en\", from_lang='uk')\n",
    "translated_comment = translator.translate(coments)\n",
    "coments = pd.Series({'coments':translated_comment})\n",
    "my_coment = model.transform(coments)\n",
    "com_pred = base_line['model'].predict(my_coment)\n",
    "com_pred = lb_encoder.inverse_transform(com_pred)\n",
    "com_pred"
   ],
   "metadata": {
    "collapsed": false,
    "ExecuteTime": {
     "end_time": "2023-10-06T15:00:31.204141300Z",
     "start_time": "2023-10-06T15:00:27.640112400Z"
    }
   },
   "id": "7c2054258da87b1f"
  },
  {
   "cell_type": "markdown",
   "source": [
    "Не дивлячись на те, що телефон коштує 2000 долларів - він задовольняє всім моїм потребам своєю потужністю та зовнішнім виглядом\n",
    "\n",
    "Жахливий проудкт, я би на такий ніколи не підписався, марно витрачав свої кошти\n",
    "\n",
    "Вирішив поділитися своїми враженнями від дворічного володінням Cadillac XT5. Рік виготовлення 2017. Повний привід, сучасний атмосферний двигун V6 об’ємом 3,6л., потужність 314 к.с. з системою відключення двох циліндрів, що дозволяє їхати як швидко розгін 7,5с. до 100 км./год.так, і за потреби, економно розхід по трасі може становити 7,5л./100 км.. Був придбаний на аукціоні з незначними пошкодженнями та пробігом 12 474 миль 20 тис.км.в 2021р. За два роки проїхав 12 тис. км. Перед ним у володінні була Ауді А4 2.0 TFSI Quattro, відповідно хотів придбати Audi Q5 до 2017р. випуску, проте потрібного варіанту не знаходилося. Всі Або були надто сильно пошкоджені, або по ціннику йшли далеко поза мій бюджет і ставали нецікавими/невигідними. Вирішив подивитися в бік біль рідкісних авто американського автопрому - Cadillac, Lincoln, Jeep. В результаті став щасливим власником Cadillac XT5 3,6 AWD. Велике, комфортне, непересічне авто, яке, ІМХО, варте уваги і дуже недооцінене у нас. Розміри між Q5 та Q7, великий багажник, хороший кліренс, якісні матеріали оздоблення. Авто абсолютно \"не кохає\" мізки. Після ремонту замінив рідини та фільтри й після того - виключно те, що потребував регламент. Оскільки це GM вартість фільтрів невелика. Оливу використовував Liqui Moly Molygen New Generation 5W-30, заміна раз на 10 тис. Авто чудово поводить себе як на добрих дорогах так і на недуже. Комфортне в далеких подорожах. Попри те що може швидко їхати, зовсім не провокує, як Ауді. Тут історія про комфорт та зручність. Багато місця в салоні та багажнику. Кліренс достатній для адекватних зїздів з асфальту в якийсь лісок чи за потреби десь проїхати взимку. Багато хто переживатиме за розхід, зважаючи на обєм двигуна - скажу так авто споживає не набагато більше ніж Ауді А4. В залежності від стилю їзди, місто 13-16л., траса 6,5-9 л. Вважаю, що для авто такого обєму/потужності, маси та розмірів це цілком адекватно. Хочу побажати потенційним покупцям даної марки не боятися, це \"американський мерседес\". З запчастинами зараз проблем немає. А гарний вигляд, непересічність авто точно не залишить вас непоміченими.\n",
    "\n",
    "Ніколи не звертайтеся до цього салону! ЛОХОТРОН! Розводять на кредит, на машину якої немає! Для того, щоб ви не пішли, утримують документи. Коли розуміють, що ти починаєш розуміти, що це розлучення, починають дуже грубо спілкуватися. Чи не ведіться! Вам розкажуть що машина десь скоро доставлять, тільки подайте на заявку на кредит, тільки ви ніколи не дізнаєтесь на яку суму вас подали.\n",
    "\n",
    "На жаль Спортлайф клуб для тих, хто не працює та особливо це стосуватися дітей. Навіщо взагалі продавати дитячий дитячий абонемент, якщо зверху за все потрібно доплачувати.\n",
    "В мене дитина 9 років відходила зі мною рік, коли ми працювали вдома, була можливість його водити, підлаштовуючи графік. При вимушеній роботі в офісі, всі заняття в робочий час. Завезти дитину на групове заняття по абонементу може або ти з наявністю або той дорослий, який має абонемент, або супровід за 80 грн(і це за 5 хв щоб провести латину через роздягальні до тренера), або платіть за платне групове(і тоді вийде тренер). Тобто альтернативи, щоб вийшов або зустрів тренер, який проводить заняття по абонементу - немає. Платіть зверху гроші. Висновок, дитина не хоче ходити. Домучаєм абонемент і більше не куплятимо.\n",
    "Вимагаєте договір, коли оплачуєте абонемент.\n",
    "Бо дитині нічого не можно, лише знаходитись в дитячій кімнаті та з дорослим, але ви тоді не тренуватись.\n",
    "\n",
    "Спорт лайф-то найгірша пропозиція в сучасному світі, мало того, що сервіс гірше не придумаєш ( тренери так собі, розклад групових лише для пенсіонерів та школярів) тай ще клуб на Дарниці закрили без попередження та права на заморозку у разі як що не хочу їздити в інший клуб, і це при такій вартості абонементів!!! Це все одно що в тебе вкрали півтора місяця від вартості абонементу в розмірі щонайменше 19 тис гривень."
   ],
   "metadata": {
    "collapsed": false
   },
   "id": "255e287142f4d7ed"
  },
  {
   "cell_type": "markdown",
   "source": [
    "Перевірив на своїх коментарях - все працює (насправді я трошки в захваті)"
   ],
   "metadata": {
    "collapsed": false
   },
   "id": "a88434199ff75d0a"
  },
  {
   "cell_type": "markdown",
   "source": [
    "Спроюуємо іншу бібліотеки scikit-learn"
   ],
   "metadata": {
    "collapsed": false
   },
   "id": "164b70cfc95c545"
  },
  {
   "cell_type": "code",
   "execution_count": 23,
   "outputs": [
    {
     "name": "stderr",
     "output_type": "stream",
     "text": [
      "C:\\Users\\lemes\\AppData\\Local\\Programs\\Python\\Python311\\Lib\\site-packages\\sklearn\\feature_extraction\\text.py:2065: UserWarning: Only (<class 'numpy.float64'>, <class 'numpy.float32'>, <class 'numpy.float16'>) 'dtype' should be used. <class 'numpy.int32'> 'dtype' will be converted to np.float64.\n",
      "  warnings.warn(\n",
      "C:\\Users\\lemes\\AppData\\Local\\Programs\\Python\\Python311\\Lib\\site-packages\\sklearn\\feature_extraction\\text.py:408: UserWarning: Your stop_words may be inconsistent with your preprocessing. Tokenizing the stop words generated tokens ['arent', 'couldnt', 'didnt', 'doesnt', 'dont', 'hadnt', 'hasnt', 'havent', 'isnt', 'mightnt', 'mustnt', 'neednt', 'shant', 'shes', 'shouldnt', 'shouldve', 'thatll', 'wasnt', 'werent', 'wont', 'wouldnt', 'youd', 'youll', 'youre', 'youve'] not in stop_words.\n",
      "  warnings.warn(\n"
     ]
    }
   ],
   "source": [
    "model2 = TfidfVectorizer(strip_accents='unicode', stop_words=words_stop, preprocessor=custom_preprocessor, min_df=5, dtype=np.int32, norm='l1')\n",
    "X2 = model2.fit_transform(df['review'])"
   ],
   "metadata": {
    "collapsed": false,
    "ExecuteTime": {
     "end_time": "2023-10-06T15:00:55.660827600Z",
     "start_time": "2023-10-06T15:00:47.698886200Z"
    }
   },
   "id": "a9f4bab33343882b"
  },
  {
   "cell_type": "code",
   "execution_count": 24,
   "outputs": [],
   "source": [
    "train, test = train_test_split(X2, train_size=0.5, shuffle=False)"
   ],
   "metadata": {
    "collapsed": false,
    "ExecuteTime": {
     "end_time": "2023-10-06T15:01:19.236849700Z",
     "start_time": "2023-10-06T15:01:19.137987300Z"
    }
   },
   "id": "f00c092864ceaf85"
  },
  {
   "cell_type": "code",
   "execution_count": 25,
   "outputs": [],
   "source": [
    "max_param2 = make_clasifier(tree=500,depth=1000)"
   ],
   "metadata": {
    "collapsed": false,
    "ExecuteTime": {
     "end_time": "2023-10-06T15:04:22.249767700Z",
     "start_time": "2023-10-06T15:01:20.573058300Z"
    }
   },
   "id": "e1f14cdd70c52637"
  },
  {
   "cell_type": "code",
   "execution_count": null,
   "outputs": [],
   "source": [
    "print(max_param2['msg']) # use l2"
   ],
   "metadata": {
    "collapsed": false,
    "ExecuteTime": {
     "start_time": "2023-10-04T11:01:44.944312100Z"
    }
   },
   "id": "2446169f4dc26e04"
  },
  {
   "cell_type": "code",
   "execution_count": 26,
   "outputs": [
    {
     "name": "stdout",
     "output_type": "stream",
     "text": [
      "Модель відпрацювала з такими данними:\n",
      "навчальна виборка\n",
      "accuracy : 1.0\n",
      "precision : 1.0\n",
      "recall : 1.0\n",
      "f1 : 1.0\n",
      "\n",
      "\n",
      "Тестова частина:\n",
      "accuracy : 0.8586\n",
      "precision : 0.8605341246290801\n",
      "recall : 0.8566182340731279\n",
      "f1 : 0.8585717143428685\n"
     ]
    }
   ],
   "source": [
    "print(max_param2['msg']) # use l1"
   ],
   "metadata": {
    "collapsed": false,
    "ExecuteTime": {
     "end_time": "2023-10-06T15:04:27.316346Z",
     "start_time": "2023-10-06T15:04:27.287080700Z"
    }
   },
   "id": "48f262fd6d7883f0"
  },
  {
   "cell_type": "code",
   "execution_count": null,
   "outputs": [],
   "source": [
    "#Залишимо l1 клфсифікацію\n",
    "max_param2 = make_clasifier(tree=500,depth=50)\n",
    "#подивимось невелику глибину"
   ],
   "metadata": {
    "collapsed": false,
    "ExecuteTime": {
     "start_time": "2023-10-04T11:01:44.949731300Z"
    }
   },
   "id": "bc38796ce6e03718"
  },
  {
   "cell_type": "code",
   "execution_count": null,
   "outputs": [],
   "source": [
    "print(max_param2['msg'])"
   ],
   "metadata": {
    "collapsed": false,
    "ExecuteTime": {
     "start_time": "2023-10-04T11:01:44.953237300Z"
    }
   },
   "id": "641c8e80b2a8c867"
  },
  {
   "cell_type": "code",
   "execution_count": null,
   "outputs": [],
   "source": [
    "acc = []\n",
    "param = []\n",
    "for i in range(1,50):\n",
    "    print(f'Зараз робим {i} ітерацію')\n",
    "    proba = make_clasifier(tree=500,depth=i)\n",
    "    acc.append(proba['accuracy_test'])\n",
    "    param.append([proba['accuracy_test'], proba['precision_test'], proba['recall_test'], proba['f1_test']])"
   ],
   "metadata": {
    "collapsed": false,
    "ExecuteTime": {
     "start_time": "2023-10-04T11:01:44.955573200Z"
    }
   },
   "id": "9ee99047ad876536"
  },
  {
   "cell_type": "code",
   "execution_count": null,
   "outputs": [],
   "source": [
    "# будемо обирати глибину 50"
   ],
   "metadata": {
    "collapsed": false,
    "ExecuteTime": {
     "start_time": "2023-10-04T11:01:44.958640700Z"
    }
   },
   "id": "6a2a4070805500f3"
  },
  {
   "cell_type": "code",
   "execution_count": null,
   "outputs": [],
   "source": [
    "proba = make_clasifier(tree=700,depth=50)"
   ],
   "metadata": {
    "collapsed": false,
    "ExecuteTime": {
     "start_time": "2023-10-04T11:01:44.960946200Z"
    }
   },
   "id": "803ce5b7b7bae35e"
  },
  {
   "cell_type": "code",
   "execution_count": null,
   "outputs": [],
   "source": [
    "print(proba['msg'])"
   ],
   "metadata": {
    "collapsed": false,
    "ExecuteTime": {
     "start_time": "2023-10-04T11:01:44.964244900Z"
    }
   },
   "id": "8a67e5798896b405"
  },
  {
   "cell_type": "code",
   "execution_count": 27,
   "outputs": [],
   "source": [
    "base_line2 = make_clasifier(tree=700,depth=50)"
   ],
   "metadata": {
    "collapsed": false,
    "ExecuteTime": {
     "end_time": "2023-10-06T15:07:22.204106600Z",
     "start_time": "2023-10-06T15:04:50.507968600Z"
    }
   },
   "id": "3627f7e3b904c45d"
  },
  {
   "cell_type": "code",
   "execution_count": 28,
   "outputs": [
    {
     "data": {
      "text/plain": "array(['positive'], dtype=object)"
     },
     "execution_count": 28,
     "metadata": {},
     "output_type": "execute_result"
    }
   ],
   "source": [
    "#Подивимось як він працює, спробуємо написати свій відгук\n",
    "coments = str(input('Введіть ваш коментар'))\n",
    "translator = Translator(to_lang=\"en\", from_lang='uk')\n",
    "translated_comment = translator.translate(coments)\n",
    "coments = pd.Series({'coments':translated_comment})\n",
    "my_coment = model2.transform(coments)\n",
    "com_pred = base_line2['model'].predict(my_coment)\n",
    "com_pred = lb_encoder.inverse_transform(com_pred)\n",
    "com_pred"
   ],
   "metadata": {
    "collapsed": false,
    "ExecuteTime": {
     "end_time": "2023-10-06T15:07:35.707182900Z",
     "start_time": "2023-10-06T15:07:33.895149800Z"
    }
   },
   "id": "d5c9e22cce740b79"
  },
  {
   "cell_type": "markdown",
   "source": [
    "Перейдемо до spacy"
   ],
   "metadata": {
    "collapsed": false
   },
   "id": "9dacb056cbbf8154"
  },
  {
   "cell_type": "code",
   "execution_count": 5,
   "outputs": [],
   "source": [
    "nlp = spacy.load('en_core_web_lg')\n",
    "#doc = nlp(df['review'])"
   ],
   "metadata": {
    "collapsed": false,
    "ExecuteTime": {
     "end_time": "2023-10-06T19:41:55.614564300Z",
     "start_time": "2023-10-06T19:41:48.628959900Z"
    }
   },
   "id": "672d69b0316a33cd"
  },
  {
   "cell_type": "code",
   "execution_count": 5,
   "outputs": [],
   "source": [
    "def vectorize_spacy(text):\n",
    "    doc = nlp(text)\n",
    "    vector = []\n",
    "    for sentence in doc.sents:\n",
    "        for token in sentence:\n",
    "            if not token.is_punct or token.text.lower() not in words_stop:\n",
    "                vector.extend(token.vector)            \n",
    "    vector_arry = np.array(vector, dtype='float32')\n",
    "    return vector_arry"
   ],
   "metadata": {
    "collapsed": false,
    "ExecuteTime": {
     "end_time": "2023-10-06T13:05:56.003710Z",
     "start_time": "2023-10-06T13:05:55.995151400Z"
    }
   },
   "id": "dc845386f7becc3b"
  },
  {
   "cell_type": "code",
   "execution_count": 6,
   "outputs": [],
   "source": [
    "train1, test = train_test_split(df, train_size=0.5, shuffle=False)"
   ],
   "metadata": {
    "collapsed": false,
    "ExecuteTime": {
     "end_time": "2023-10-06T13:05:57.189729500Z",
     "start_time": "2023-10-06T13:05:57.158243200Z"
    }
   },
   "id": "d274f4349d48f03b"
  },
  {
   "cell_type": "code",
   "execution_count": 7,
   "outputs": [],
   "source": [
    "train, test = train_test_split(train1, train_size=0.5, shuffle=False)"
   ],
   "metadata": {
    "collapsed": false,
    "ExecuteTime": {
     "end_time": "2023-10-06T13:05:58.400165Z",
     "start_time": "2023-10-06T13:05:58.303141500Z"
    }
   },
   "id": "90314dd4cf9f7e1a"
  },
  {
   "cell_type": "code",
   "execution_count": 11,
   "outputs": [],
   "source": [
    "target_train = train['sentiment']\n",
    "train.drop('sentiment', axis=1, inplace=True)\n",
    "target_test = test['sentiment']\n",
    "test.drop('sentiment', axis=1, inplace=True)"
   ],
   "metadata": {
    "collapsed": false,
    "ExecuteTime": {
     "end_time": "2023-10-06T13:08:03.873072500Z",
     "start_time": "2023-10-06T13:08:03.818511100Z"
    }
   },
   "id": "ad84b964466412e"
  },
  {
   "cell_type": "code",
   "execution_count": 22,
   "outputs": [],
   "source": [
    "train_sc = train['review'].apply(vectorize_spacy)"
   ],
   "metadata": {
    "collapsed": false,
    "ExecuteTime": {
     "end_time": "2023-10-06T13:22:09.020484800Z",
     "start_time": "2023-10-06T13:12:17.611058700Z"
    }
   },
   "id": "98cce2dd84916e9b"
  },
  {
   "cell_type": "code",
   "execution_count": 24,
   "outputs": [],
   "source": [
    "test_sc = test['review'].apply(vectorize_spacy)"
   ],
   "metadata": {
    "collapsed": false,
    "ExecuteTime": {
     "end_time": "2023-10-06T13:37:19.881303600Z",
     "start_time": "2023-10-06T13:23:45.519763Z"
    }
   },
   "id": "4545b2ca3f55aee1"
  },
  {
   "cell_type": "code",
   "execution_count": 60,
   "outputs": [],
   "source": [
    "train = train_sc.apply(np.mean)\n",
    "test = test_sc.apply(np.mean)"
   ],
   "metadata": {
    "collapsed": false,
    "ExecuteTime": {
     "end_time": "2023-10-06T14:16:23.241787200Z",
     "start_time": "2023-10-06T14:15:00.431982400Z"
    }
   },
   "id": "7d9f611c4b21c166"
  },
  {
   "cell_type": "code",
   "execution_count": 67,
   "outputs": [],
   "source": [
    "train = train.values.reshape(-1, 1)"
   ],
   "metadata": {
    "collapsed": false,
    "ExecuteTime": {
     "end_time": "2023-10-06T14:20:41.478890400Z",
     "start_time": "2023-10-06T14:20:41.446272Z"
    }
   },
   "id": "9595b6c053d2c5db"
  },
  {
   "cell_type": "code",
   "execution_count": 69,
   "outputs": [],
   "source": [
    "test = test.values.reshape(-1,1)"
   ],
   "metadata": {
    "collapsed": false,
    "ExecuteTime": {
     "end_time": "2023-10-06T14:21:12.919316400Z",
     "start_time": "2023-10-06T14:21:12.872093Z"
    }
   },
   "id": "6f418d629c9f1af0"
  },
  {
   "cell_type": "code",
   "execution_count": 104,
   "outputs": [],
   "source": [
    "def make_clasifier_sc():\n",
    "    model_clasifier = KNeighborsClassifier(n_neighbors=4).fit(train, target_train)\n",
    "    predict_train = model_clasifier.predict(train)\n",
    "    accuracy_train = accuracy_score(target_train, predict_train)\n",
    "    precision_train =  precision_score(target_train, predict_train)\n",
    "    recall_train = recall_score(target_train, predict_train)\n",
    "    f1_train = f1_score(target_train, predict_train) \n",
    "    predict_test = model_clasifier.predict(test)\n",
    "    accuracy_test = accuracy_score(target_test, predict_test)\n",
    "    precision_test =  precision_score(target_test, predict_test)\n",
    "    recall_test = recall_score(target_test, predict_test)\n",
    "    f1_test = f1_score(target_test, predict_test)\n",
    "    msg = f'Модель відпрацювала з такими данними:\\nнавчальна виборка\\naccuracy : {accuracy_train}\\nprecision : {precision_train}\\nrecall : {recall_train}\\nf1 : {f1_train}\\n\\n\\nТестова частина:\\naccuracy : {accuracy_test}\\nprecision : {precision_test}\\nrecall : {recall_test}\\nf1 : {f1_test}'\n",
    "    return {'predict_train':predict_train, 'accuracy_train':accuracy_train, 'precision_train':precision_train, 'recall_train':recall_train, 'f1_train':f1_train, 'predict_test':predict_test, 'accuracy_test':accuracy_test, 'precision_test':precision_test, 'recall_test':recall_test, 'f1_test':f1_test, 'msg':msg, 'model':model_clasifier}"
   ],
   "metadata": {
    "collapsed": false,
    "ExecuteTime": {
     "end_time": "2023-10-06T14:26:50.179717400Z",
     "start_time": "2023-10-06T14:26:50.157904100Z"
    }
   },
   "id": "2c2af7509f56a6df"
  },
  {
   "cell_type": "code",
   "execution_count": 105,
   "outputs": [],
   "source": [
    "proba_sc = make_clasifier_sc()"
   ],
   "metadata": {
    "collapsed": false,
    "ExecuteTime": {
     "end_time": "2023-10-06T14:26:52.023046500Z",
     "start_time": "2023-10-06T14:26:50.814068400Z"
    }
   },
   "id": "fadc4f29945e0499"
  },
  {
   "cell_type": "code",
   "execution_count": 106,
   "outputs": [
    {
     "name": "stdout",
     "output_type": "stream",
     "text": [
      "Модель відпрацювала з такими данними:\n",
      "навчальна виборка\n",
      "accuracy : 0.70152\n",
      "precision : 0.8101805416248746\n",
      "recall : 0.5207091055600322\n",
      "f1 : 0.6339644854311782\n",
      "\n",
      "\n",
      "Тестова частина:\n",
      "accuracy : 0.532\n",
      "precision : 0.5524931094963669\n",
      "recall : 0.3517307385547934\n",
      "f1 : 0.4298245614035088\n"
     ]
    }
   ],
   "source": [
    "print(proba_sc['msg'])"
   ],
   "metadata": {
    "collapsed": false,
    "ExecuteTime": {
     "end_time": "2023-10-06T14:26:52.717087Z",
     "start_time": "2023-10-06T14:26:52.675792900Z"
    }
   },
   "id": "de2bca16a2174a4d"
  },
  {
   "cell_type": "markdown",
   "source": [
    "Можна стверджумати, що данний підхід не працює, але, зробимо лемітізацію та подивимось"
   ],
   "metadata": {
    "collapsed": false
   },
   "id": "be0f32d503568131"
  },
  {
   "cell_type": "code",
   "execution_count": 6,
   "outputs": [],
   "source": [
    "def lema_sc(text):\n",
    "    doc = nlp(text)\n",
    "    vector = []\n",
    "    for sentence in doc.sents:\n",
    "        for token in sentence:\n",
    "            if not token.is_punct or token.text.lower() not in words_stop:\n",
    "                vector.append(token.lemma_)            \n",
    "    return ' '.join(vector).replace('<br />', '')"
   ],
   "metadata": {
    "collapsed": false,
    "ExecuteTime": {
     "end_time": "2023-10-06T19:42:23.070343Z",
     "start_time": "2023-10-06T19:42:23.014335800Z"
    }
   },
   "id": "98df2ca24e7a8bce"
  },
  {
   "cell_type": "code",
   "execution_count": 9,
   "outputs": [],
   "source": [
    "sc_df = df['review'].apply(lema_sc)"
   ],
   "metadata": {
    "collapsed": false,
    "ExecuteTime": {
     "end_time": "2023-10-06T20:10:25.795919700Z",
     "start_time": "2023-10-06T19:42:51.923895600Z"
    }
   },
   "id": "c26e85cc0af732f8"
  },
  {
   "cell_type": "code",
   "execution_count": 10,
   "outputs": [
    {
     "data": {
      "text/plain": "0        one of the other reviewer have mention that af...\n1        a wonderful little production . < br />the fil...\n2        I think this be a wonderful way to spend time ...\n3        basically there be a family where a little boy...\n4        petter Mattei 's \" love in the Time of money \"...\n                               ...                        \n49995    I think this movie do a down right good job . ...\n49996    bad plot , bad dialogue , bad act , idiotic di...\n49997    I be a Catholic teach in parochial elementary ...\n49998    I be go to have to disagree with the previous ...\n49999    no one expect the Star Trek movie to be high a...\nName: review, Length: 50000, dtype: object"
     },
     "execution_count": 10,
     "metadata": {},
     "output_type": "execute_result"
    }
   ],
   "source": [
    "sc_df"
   ],
   "metadata": {
    "collapsed": false,
    "ExecuteTime": {
     "end_time": "2023-10-07T09:09:59.116676100Z",
     "start_time": "2023-10-07T09:09:58.793887Z"
    }
   },
   "id": "a958bf1f703e0ffd"
  },
  {
   "cell_type": "code",
   "execution_count": 13,
   "outputs": [
    {
     "name": "stderr",
     "output_type": "stream",
     "text": [
      "C:\\Users\\lemes\\AppData\\Local\\Programs\\Python\\Python311\\Lib\\site-packages\\sklearn\\feature_extraction\\text.py:2065: UserWarning: Only (<class 'numpy.float64'>, <class 'numpy.float32'>, <class 'numpy.float16'>) 'dtype' should be used. <class 'numpy.int32'> 'dtype' will be converted to np.float64.\n",
      "  warnings.warn(\n",
      "C:\\Users\\lemes\\AppData\\Local\\Programs\\Python\\Python311\\Lib\\site-packages\\sklearn\\feature_extraction\\text.py:408: UserWarning: Your stop_words may be inconsistent with your preprocessing. Tokenizing the stop words generated tokens ['arent', 'couldnt', 'didnt', 'doesnt', 'dont', 'hadnt', 'hasnt', 'havent', 'isnt', 'mightnt', 'mustnt', 'neednt', 'shant', 'shes', 'shouldnt', 'shouldve', 'thatll', 'wasnt', 'werent', 'wont', 'wouldnt', 'youd', 'youll', 'youre', 'youve'] not in stop_words.\n",
      "  warnings.warn(\n"
     ]
    }
   ],
   "source": [
    "model3 = TfidfVectorizer(strip_accents='unicode', stop_words=words_stop, preprocessor=custom_preprocessor, min_df=5, dtype=np.int32, norm='l1')\n",
    "X3 = model3.fit_transform(sc_df)"
   ],
   "metadata": {
    "collapsed": false,
    "ExecuteTime": {
     "end_time": "2023-10-07T09:14:22.704987900Z",
     "start_time": "2023-10-07T09:14:12.684810300Z"
    }
   },
   "id": "6bc8aaa42a79a6a2"
  },
  {
   "cell_type": "code",
   "execution_count": 18,
   "outputs": [
    {
     "data": {
      "text/plain": "scipy.sparse._csr.csr_matrix"
     },
     "execution_count": 18,
     "metadata": {},
     "output_type": "execute_result"
    }
   ],
   "source": [
    "type(X3)"
   ],
   "metadata": {
    "collapsed": false,
    "ExecuteTime": {
     "end_time": "2023-10-07T09:30:27.160509800Z",
     "start_time": "2023-10-07T09:30:27.128007500Z"
    }
   },
   "id": "cfea1d0b9ac86af4"
  },
  {
   "cell_type": "code",
   "execution_count": 19,
   "outputs": [],
   "source": [
    "train, test = train_test_split(X3, test_size=0.5, shuffle=False)"
   ],
   "metadata": {
    "collapsed": false,
    "ExecuteTime": {
     "end_time": "2023-10-07T09:32:02.841429200Z",
     "start_time": "2023-10-07T09:32:02.799792900Z"
    }
   },
   "id": "518c1fec6ee733b"
  },
  {
   "cell_type": "code",
   "execution_count": 24,
   "outputs": [],
   "source": [
    "max_param3 = make_clasifier(tree=500,depth=50)"
   ],
   "metadata": {
    "collapsed": false,
    "ExecuteTime": {
     "end_time": "2023-10-07T09:34:24.000159600Z",
     "start_time": "2023-10-07T09:32:59.694325700Z"
    }
   },
   "id": "1c786a089d73d388"
  },
  {
   "cell_type": "code",
   "execution_count": 25,
   "outputs": [
    {
     "name": "stdout",
     "output_type": "stream",
     "text": [
      "Модель відпрацювала з такими данними:\n",
      "навчальна виборка\n",
      "accuracy : 0.995\n",
      "precision : 0.9902342199285431\n",
      "recall : 0.9998396665063332\n",
      "f1 : 0.9950137620168334\n",
      "\n",
      "\n",
      "Тестова частина:\n",
      "accuracy : 0.85608\n",
      "precision : 0.8532763532763533\n",
      "recall : 0.8607695992335941\n",
      "f1 : 0.8570065972498211\n"
     ]
    }
   ],
   "source": [
    "print(max_param3['msg'])"
   ],
   "metadata": {
    "collapsed": false,
    "ExecuteTime": {
     "end_time": "2023-10-07T09:36:18.001570300Z",
     "start_time": "2023-10-07T09:36:17.919914100Z"
    }
   },
   "id": "5c9725c9ca8ebea3"
  },
  {
   "cell_type": "markdown",
   "source": [
    "Висновок - для нашої задачі достатньо звичайного Bag of Words"
   ],
   "metadata": {
    "collapsed": false
   },
   "id": "4379daf7e0ae00af"
  }
 ],
 "metadata": {
  "kernelspec": {
   "display_name": "Python 3",
   "language": "python",
   "name": "python3"
  },
  "language_info": {
   "codemirror_mode": {
    "name": "ipython",
    "version": 2
   },
   "file_extension": ".py",
   "mimetype": "text/x-python",
   "name": "python",
   "nbconvert_exporter": "python",
   "pygments_lexer": "ipython2",
   "version": "2.7.6"
  }
 },
 "nbformat": 4,
 "nbformat_minor": 5
}
