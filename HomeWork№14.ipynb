{
 "cells": [
  {
   "cell_type": "code",
   "execution_count": 1,
   "outputs": [],
   "source": [
    "from transformers import AutoTokenizer, AutoModelForQuestionAnswering\n",
    "\n",
    "import torch\n",
    "\n",
    "from docx import Document\n",
    "\n",
    "import os\n",
    "import win32com.client\n",
    "\n",
    "import openpyxl"
   ],
   "metadata": {
    "collapsed": false,
    "ExecuteTime": {
     "end_time": "2023-10-19T10:21:50.812467200Z",
     "start_time": "2023-10-19T10:21:44.338894900Z"
    }
   },
   "id": "e94b36e670a055e7"
  },
  {
   "cell_type": "code",
   "execution_count": 2,
   "outputs": [],
   "source": [
    "# наші файли зберігаються у різних форматах, приведемо їх в один формат\n",
    "files = os.listdir('Вікна')\n",
    "for file in files:\n",
    "    if file.split('.')[-1] == 'doc':\n",
    "        word = win32com.client.Dispatch(\"Word.Application\")\n",
    "        doc = word.Documents.Open(f'C:\\\\Users\\\\lemes\\\\OneDrive\\\\Рабочий стол\\\\Домашки DataScience\\\\Вікна\\\\{file}')\n",
    "        doc.SaveAs(f'C:\\\\Users\\\\lemes\\\\OneDrive\\\\Рабочий стол\\\\Домашки DataScience\\\\Вікна\\\\{file}x', 16) #16 значить формат docx\n",
    "\n",
    "\n",
    "doc.Close()\n",
    "word.Quit()"
   ],
   "metadata": {
    "collapsed": false,
    "ExecuteTime": {
     "end_time": "2023-10-19T10:23:00.132822200Z",
     "start_time": "2023-10-19T10:22:26.043476800Z"
    }
   },
   "id": "380a748fd76809d8"
  },
  {
   "cell_type": "code",
   "execution_count": 3,
   "outputs": [
    {
     "name": "stderr",
     "output_type": "stream",
     "text": [
      "Special tokens have been added in the vocabulary, make sure the associated word embeddings are fine-tuned or trained.\n"
     ]
    }
   ],
   "source": [
    "# функція з нашою моделью\n",
    "model_name = 'timpal0l/mdeberta-v3-base-squad2'\n",
    "tokenizer = AutoTokenizer.from_pretrained(model_name)\n",
    "model = AutoModelForQuestionAnswering.from_pretrained(model_name)\n",
    "\n",
    "def answer(question, text):\n",
    "    # задаємо питання\n",
    "    inputs = tokenizer(question, text, return_tensors=\"pt\")\n",
    "    with torch.no_grad():\n",
    "        outputs = model(**inputs)\n",
    "    answer_start_index = outputs.start_logits.argmax()\n",
    "    answer_end_index = outputs.end_logits.argmax()    \n",
    "    predict_answer_tokens = inputs.input_ids[0, answer_start_index : answer_end_index + 1]\n",
    "    \n",
    "    #отримаємо відповідь\n",
    "    predicted_answer_text = tokenizer.decode(predict_answer_tokens, skip_special_tokens=True)\n",
    "    return predicted_answer_text\n",
    "    \n",
    "    "
   ],
   "metadata": {
    "collapsed": false,
    "ExecuteTime": {
     "end_time": "2023-10-19T10:23:16.526353100Z",
     "start_time": "2023-10-19T10:23:04.844356500Z"
    }
   },
   "id": "175b849345eddf33"
  },
  {
   "cell_type": "markdown",
   "source": [
    "у мене в директорії для прикладу лежить 28 файлів з 1 до 28 також є 1 файл excel в якйи я вивів те що очікую від моделі"
   ],
   "metadata": {
    "collapsed": false
   },
   "id": "b92cb502935336fb"
  },
  {
   "cell_type": "code",
   "execution_count": 4,
   "outputs": [],
   "source": [
    "# Почнемо редагувати лист\n",
    "wb = openpyxl.load_workbook('Проверочный лист.xlsx')\n",
    "ws = wb.active"
   ],
   "metadata": {
    "collapsed": false,
    "ExecuteTime": {
     "end_time": "2023-10-19T10:23:21.373701400Z",
     "start_time": "2023-10-19T10:23:21.271672300Z"
    }
   },
   "id": "8c19ceb78113eac1"
  },
  {
   "cell_type": "code",
   "execution_count": 5,
   "outputs": [],
   "source": [
    "def create_answer_table(question, cell):\n",
    "    for i in range(1,29): \n",
    "        doc_path = f'C:/Users/lemes/OneDrive/Рабочий стол/Домашки DataScience/Вікна/{i}.docx'\n",
    "        doc = Document(doc_path)\n",
    "        for paragraph in doc.paragraphs:\n",
    "            if 'Дозвол' in paragraph.text or 'дозвол' in paragraph.text or 'надайте' in paragraph.text:\n",
    "                ws[f'{cell}{i+1}'].value = answer(question=question, text=paragraph.text)\n",
    "                break"
   ],
   "metadata": {
    "collapsed": false,
    "ExecuteTime": {
     "end_time": "2023-10-19T10:23:22.214245300Z",
     "start_time": "2023-10-19T10:23:22.197451500Z"
    }
   },
   "id": "57bcce2c36b489ab"
  },
  {
   "cell_type": "code",
   "execution_count": 6,
   "outputs": [],
   "source": [
    "create_answer_table('Де проводяться роботи?', 'D')\n",
    "create_answer_table('В які дати проводяться роботи?', 'E')\n",
    "wb.save('Проверочный лист.xlsx')"
   ],
   "metadata": {
    "collapsed": false,
    "ExecuteTime": {
     "end_time": "2023-10-19T10:23:41.090805800Z",
     "start_time": "2023-10-19T10:23:24.749385400Z"
    }
   },
   "id": "779825547b8d18f"
  },
  {
   "cell_type": "markdown",
   "source": [
    "Приккріплю файл, із всіх відповідей що мені надала модель, тільки 1 мене не задовольняє, а так, як на мене - то дуже крутий результат."
   ],
   "metadata": {
    "collapsed": false
   },
   "id": "ae37d14a0a3be28a"
  }
 ],
 "metadata": {
  "kernelspec": {
   "display_name": "Python 3",
   "language": "python",
   "name": "python3"
  },
  "language_info": {
   "codemirror_mode": {
    "name": "ipython",
    "version": 2
   },
   "file_extension": ".py",
   "mimetype": "text/x-python",
   "name": "python",
   "nbconvert_exporter": "python",
   "pygments_lexer": "ipython2",
   "version": "2.7.6"
  }
 },
 "nbformat": 4,
 "nbformat_minor": 5
}
