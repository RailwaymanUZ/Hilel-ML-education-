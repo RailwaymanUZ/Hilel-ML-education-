{
 "cells": [
  {
   "cell_type": "code",
   "execution_count": 1,
   "id": "initial_id",
   "metadata": {
    "collapsed": true,
    "ExecuteTime": {
     "end_time": "2023-10-15T16:59:43.904575300Z",
     "start_time": "2023-10-15T16:59:21.384448900Z"
    }
   },
   "outputs": [],
   "source": [
    "import string\n",
    "\n",
    "import tensorflow as tf\n",
    "\n",
    "import numpy as np\n",
    "import pandas as pd\n",
    "\n",
    "from sklearn.preprocessing import LabelEncoder\n",
    "from sklearn.model_selection import train_test_split\n",
    "\n",
    "\n",
    "from nltk.corpus import stopwords\n",
    "\n",
    "import spacy\n"
   ]
  },
  {
   "cell_type": "code",
   "execution_count": 2,
   "outputs": [],
   "source": [
    "nlp = spacy.load('en_core_web_lg')"
   ],
   "metadata": {
    "collapsed": false,
    "ExecuteTime": {
     "end_time": "2023-10-15T17:00:22.994637600Z",
     "start_time": "2023-10-15T17:00:11.884680400Z"
    }
   },
   "id": "a582ff58d6ae2bbb"
  },
  {
   "cell_type": "code",
   "execution_count": 3,
   "outputs": [],
   "source": [
    "df = pd.read_csv('C:/Users/lemes/OneDrive/Рабочий стол/dz/IMDB Dataset.csv')"
   ],
   "metadata": {
    "collapsed": false,
    "ExecuteTime": {
     "end_time": "2023-10-15T17:00:46.758792100Z",
     "start_time": "2023-10-15T17:00:45.504139300Z"
    }
   },
   "id": "5eba4daba2407fae"
  },
  {
   "cell_type": "code",
   "execution_count": 4,
   "outputs": [
    {
     "data": {
      "text/plain": "0        1\n1        1\n2        1\n3        0\n4        1\n        ..\n49995    1\n49996    0\n49997    0\n49998    0\n49999    0\nName: sentiment, Length: 50000, dtype: int32"
     },
     "execution_count": 4,
     "metadata": {},
     "output_type": "execute_result"
    }
   ],
   "source": [
    "lbl_encoder = LabelEncoder()\n",
    "df['sentiment'] = lbl_encoder.fit_transform(df['sentiment'])\n",
    "df['sentiment']"
   ],
   "metadata": {
    "collapsed": false,
    "ExecuteTime": {
     "end_time": "2023-10-15T17:00:48.193758600Z",
     "start_time": "2023-10-15T17:00:48.157951800Z"
    }
   },
   "id": "3349741bf4872f67"
  },
  {
   "cell_type": "code",
   "execution_count": 5,
   "outputs": [
    {
     "data": {
      "text/plain": "['i',\n 'me',\n 'my',\n 'myself',\n 'we',\n 'our',\n 'ours',\n 'ourselves',\n 'you',\n \"you're\",\n \"you've\",\n \"you'll\",\n \"you'd\",\n 'your',\n 'yours',\n 'yourself',\n 'yourselves',\n 'he',\n 'him',\n 'his',\n 'himself',\n 'she',\n \"she's\",\n 'her',\n 'hers',\n 'herself',\n 'it',\n \"it's\",\n 'its',\n 'itself',\n 'they',\n 'them',\n 'their',\n 'theirs',\n 'themselves',\n 'what',\n 'which',\n 'who',\n 'whom',\n 'this',\n 'that',\n \"that'll\",\n 'these',\n 'those',\n 'am',\n 'is',\n 'are',\n 'was',\n 'were',\n 'be',\n 'been',\n 'being',\n 'have',\n 'has',\n 'had',\n 'having',\n 'do',\n 'does',\n 'did',\n 'doing',\n 'a',\n 'an',\n 'the',\n 'and',\n 'but',\n 'if',\n 'or',\n 'because',\n 'as',\n 'until',\n 'while',\n 'of',\n 'at',\n 'by',\n 'for',\n 'with',\n 'about',\n 'against',\n 'between',\n 'into',\n 'through',\n 'during',\n 'before',\n 'after',\n 'above',\n 'below',\n 'to',\n 'from',\n 'up',\n 'down',\n 'in',\n 'out',\n 'on',\n 'off',\n 'over',\n 'under',\n 'again',\n 'further',\n 'then',\n 'once',\n 'here',\n 'there',\n 'when',\n 'where',\n 'why',\n 'how',\n 'all',\n 'any',\n 'both',\n 'each',\n 'few',\n 'more',\n 'most',\n 'other',\n 'some',\n 'such',\n 'no',\n 'nor',\n 'not',\n 'only',\n 'own',\n 'same',\n 'so',\n 'than',\n 'too',\n 'very',\n 's',\n 't',\n 'can',\n 'will',\n 'just',\n 'don',\n \"don't\",\n 'should',\n \"should've\",\n 'now',\n 'd',\n 'll',\n 'm',\n 'o',\n 're',\n 've',\n 'y',\n 'ain',\n 'aren',\n \"aren't\",\n 'couldn',\n \"couldn't\",\n 'didn',\n \"didn't\",\n 'doesn',\n \"doesn't\",\n 'hadn',\n \"hadn't\",\n 'hasn',\n \"hasn't\",\n 'haven',\n \"haven't\",\n 'isn',\n \"isn't\",\n 'ma',\n 'mightn',\n \"mightn't\",\n 'mustn',\n \"mustn't\",\n 'needn',\n \"needn't\",\n 'shan',\n \"shan't\",\n 'shouldn',\n \"shouldn't\",\n 'wasn',\n \"wasn't\",\n 'weren',\n \"weren't\",\n 'won',\n \"won't\",\n 'wouldn',\n \"wouldn't\"]"
     },
     "execution_count": 5,
     "metadata": {},
     "output_type": "execute_result"
    }
   ],
   "source": [
    "words_stop = stopwords.words('english')\n",
    "words_stop"
   ],
   "metadata": {
    "collapsed": false,
    "ExecuteTime": {
     "end_time": "2023-10-15T17:00:50.788969700Z",
     "start_time": "2023-10-15T17:00:50.718199200Z"
    }
   },
   "id": "ecda5ba819d719fe"
  },
  {
   "cell_type": "code",
   "execution_count": 6,
   "outputs": [],
   "source": [
    "translator = str.maketrans('', '', string.punctuation)\n",
    "def replace_stop_words(text): # у цій функції поки не робимо лдематізацію, подивимось як відпрацює без неї\n",
    "    text = text.lower()\n",
    "    text = text.replace('<br />', '')\n",
    "    text = text.translate(translator)\n",
    "    text = text.split(' ')\n",
    "    exit_exemple = [word for word in text if word not in words_stop and len(word) >= 3]\n",
    "    exit_exemple = exit_exemple[-30:]\n",
    "    return ' '.join(exit_exemple)"
   ],
   "metadata": {
    "collapsed": false,
    "ExecuteTime": {
     "end_time": "2023-10-15T17:00:53.718683800Z",
     "start_time": "2023-10-15T17:00:53.690443500Z"
    }
   },
   "id": "dfe43dd99cfda62f"
  },
  {
   "cell_type": "code",
   "execution_count": 7,
   "outputs": [],
   "source": [
    "def lema_and_stopwords(text, how):\n",
    "    text = text.replace('<br />', '')\n",
    "    doc = nlp(text)\n",
    "    vector = []\n",
    "    for sentensce in doc.sents:\n",
    "        for token in sentensce:\n",
    "            if not token.is_punct and token.text.lower() not in words_stop and len(token.text) > 2:\n",
    "                vector.append(token.lemma_)\n",
    "    if how == 'first':\n",
    "        return ' '.join(vector[:30])\n",
    "    elif how == 'last':\n",
    "        return ' '.join(vector[-30:])\n",
    "    else:\n",
    "        print('Параметр \"how\" повинен бути тільки \"first\" or \"last\"')\n",
    "        return\n",
    "                   "
   ],
   "metadata": {
    "collapsed": false,
    "ExecuteTime": {
     "end_time": "2023-10-15T17:00:54.271003400Z",
     "start_time": "2023-10-15T17:00:54.222336900Z"
    }
   },
   "id": "db58f188237aa4e0"
  },
  {
   "cell_type": "code",
   "execution_count": 8,
   "outputs": [
    {
     "data": {
      "text/plain": "\"'ll kill order get away well mannered middle class inmate turn prison bitch due lack street skill prison experience watch may become comfortable uncomfortable view that get touch dark side\""
     },
     "execution_count": 8,
     "metadata": {},
     "output_type": "execute_result"
    }
   ],
   "source": [
    "lema_and_stopwords(df['review'][0], how='last')"
   ],
   "metadata": {
    "collapsed": false,
    "ExecuteTime": {
     "end_time": "2023-10-15T17:01:06.305967700Z",
     "start_time": "2023-10-15T17:01:06.082555600Z"
    }
   },
   "id": "58d7b64612355b3"
  },
  {
   "cell_type": "code",
   "execution_count": 9,
   "outputs": [],
   "source": [
    "# найбільший скор мені показала модель, де ми берем останні 30 слів\n",
    "df['review'] = df['review'].apply(lambda x: lema_and_stopwords(x, how='last'))"
   ],
   "metadata": {
    "collapsed": false,
    "ExecuteTime": {
     "end_time": "2023-10-15T17:31:18.932845700Z",
     "start_time": "2023-10-15T17:01:44.472545Z"
    }
   },
   "id": "f87f17629867aee"
  },
  {
   "cell_type": "code",
   "execution_count": 10,
   "outputs": [
    {
     "data": {
      "text/plain": "0        'll kill order get away well mannered middle c...\n1        thing fantasy guard rather use traditional dre...\n2        decade have never impress Scarlet Johanson man...\n3        parent divorce argue like real life Jake close...\n4        good Mr. Mattei direction Steve Buscemi Rosari...\n                               ...                        \n49995    grip soul touch allow get life get involve mov...\n49996    pathetically bad figure fourth rate spoof Spri...\n49997    loss life besides two former student life abor...\n49998    underdeveloped be like bowling pin knock one o...\n49999    goofy scene Kirk Spock McCoy Yosemite would sa...\nName: review, Length: 50000, dtype: object"
     },
     "execution_count": 10,
     "metadata": {},
     "output_type": "execute_result"
    }
   ],
   "source": [
    " df['review']"
   ],
   "metadata": {
    "collapsed": false,
    "ExecuteTime": {
     "end_time": "2023-10-15T17:35:25.619087300Z",
     "start_time": "2023-10-15T17:35:25.577355900Z"
    }
   },
   "id": "ab66cf3be3ab6bb3"
  },
  {
   "cell_type": "code",
   "execution_count": 11,
   "outputs": [],
   "source": [
    "train_df, test_df = train_test_split(df, test_size=0.3, shuffle=False)"
   ],
   "metadata": {
    "collapsed": false,
    "ExecuteTime": {
     "end_time": "2023-10-15T17:35:36.575517200Z",
     "start_time": "2023-10-15T17:35:36.543474300Z"
    }
   },
   "id": "4f03d3faf819e191"
  },
  {
   "cell_type": "code",
   "execution_count": 12,
   "outputs": [],
   "source": [
    "vectoriztion = tf.keras.layers.TextVectorization()\n",
    "vectoriztion.adapt(train_df['review'])"
   ],
   "metadata": {
    "collapsed": false,
    "ExecuteTime": {
     "end_time": "2023-10-15T17:35:40.514671600Z",
     "start_time": "2023-10-15T17:35:38.068985700Z"
    }
   },
   "id": "7170e3560f04f609"
  },
  {
   "cell_type": "code",
   "execution_count": 13,
   "outputs": [],
   "source": [
    "train = vectoriztion(train_df['review'])"
   ],
   "metadata": {
    "collapsed": false,
    "ExecuteTime": {
     "end_time": "2023-10-15T17:35:43.833329200Z",
     "start_time": "2023-10-15T17:35:43.075545900Z"
    }
   },
   "id": "44657001734200b3"
  },
  {
   "cell_type": "code",
   "execution_count": 14,
   "outputs": [
    {
     "data": {
      "text/plain": "<tf.Tensor: shape=(35000, 31), dtype=int64, numpy=\narray([[  68,  181,  564, ...,  379,  384,    0],\n       [  35,  903, 1946, ...,   10,  100,    0],\n       [1173,   74,   44, ...,    5,  169,    0],\n       ...,\n       [3939, 2741, 5907, ...,  334,   85,    0],\n       [ 270,  838,  830, ...,   39,   12,    0],\n       [ 191,  638,  156, ...,  243,  350,    0]], dtype=int64)>"
     },
     "execution_count": 14,
     "metadata": {},
     "output_type": "execute_result"
    }
   ],
   "source": [
    "train"
   ],
   "metadata": {
    "collapsed": false,
    "ExecuteTime": {
     "end_time": "2023-10-15T17:35:44.977771400Z",
     "start_time": "2023-10-15T17:35:44.962462700Z"
    }
   },
   "id": "6ff490db45e353f3"
  },
  {
   "cell_type": "code",
   "execution_count": 15,
   "outputs": [
    {
     "data": {
      "text/plain": "array([[0., 1.],\n       [0., 1.],\n       [0., 1.],\n       ...,\n       [1., 0.],\n       [0., 1.],\n       [1., 0.]], dtype=float32)"
     },
     "execution_count": 15,
     "metadata": {},
     "output_type": "execute_result"
    }
   ],
   "source": [
    "target = tf.keras.utils.to_categorical(train_df['sentiment'], num_classes=2)\n",
    "target"
   ],
   "metadata": {
    "collapsed": false,
    "ExecuteTime": {
     "end_time": "2023-10-15T17:35:45.960342500Z",
     "start_time": "2023-10-15T17:35:45.829929Z"
    }
   },
   "id": "1d75d9f0039afb0"
  },
  {
   "cell_type": "code",
   "execution_count": 16,
   "outputs": [
    {
     "data": {
      "text/plain": "<tf.Tensor: shape=(15000, 30), dtype=int64, numpy=\narray([[  409,  1837,   965, ...,    67,   229,     1],\n       [   55,    20,  7301, ...,     3,   173, 37979],\n       [  114,  3358,   206, ...,     1,    10,   213],\n       ...,\n       [ 1299,    42,  1092, ...,  4906, 16018,  4686],\n       [ 5096,    69,     9, ..., 12691,  2032,   194],\n       [ 1986,    28,  3398, ...,   698,   202,     2]], dtype=int64)>"
     },
     "execution_count": 16,
     "metadata": {},
     "output_type": "execute_result"
    }
   ],
   "source": [
    "test = vectoriztion(test_df['review'])\n",
    "test "
   ],
   "metadata": {
    "collapsed": false,
    "ExecuteTime": {
     "end_time": "2023-10-15T17:35:47.191521300Z",
     "start_time": "2023-10-15T17:35:46.996769400Z"
    }
   },
   "id": "d76618c74c43a2ac"
  },
  {
   "cell_type": "code",
   "execution_count": 17,
   "outputs": [
    {
     "data": {
      "text/plain": "array([[1., 0.],\n       [0., 1.],\n       [1., 0.],\n       ...,\n       [1., 0.],\n       [1., 0.],\n       [1., 0.]], dtype=float32)"
     },
     "execution_count": 17,
     "metadata": {},
     "output_type": "execute_result"
    }
   ],
   "source": [
    "target_test = tf.keras.utils.to_categorical(test_df['sentiment'], num_classes=2)\n",
    "target_test"
   ],
   "metadata": {
    "collapsed": false,
    "ExecuteTime": {
     "end_time": "2023-10-15T17:35:48.470797200Z",
     "start_time": "2023-10-15T17:35:48.445056Z"
    }
   },
   "id": "cd006f7018b40866"
  },
  {
   "cell_type": "code",
   "execution_count": 18,
   "outputs": [
    {
     "data": {
      "text/plain": "43956"
     },
     "execution_count": 18,
     "metadata": {},
     "output_type": "execute_result"
    }
   ],
   "source": [
    "vocabulary_size = vectoriztion.vocabulary_size()\n",
    "vocabulary_size"
   ],
   "metadata": {
    "collapsed": false,
    "ExecuteTime": {
     "end_time": "2023-10-14T20:04:15.422122700Z",
     "start_time": "2023-10-14T20:04:15.391426200Z"
    }
   },
   "id": "ab901a464bf16fcc"
  },
  {
   "cell_type": "code",
   "execution_count": 19,
   "outputs": [],
   "source": [
    "max_features = vocabulary_size\n",
    "output_dim = 1000 # каким вектором представляется наше 1 слово\n",
    "num_classes = 2\n",
    "\n",
    "model = tf.keras.Sequential()\n",
    "model.add(tf.keras.layers.Embedding(max_features, output_dim))\n",
    "model.add(tf.keras.layers.Bidirectional(tf.keras.layers.LSTM(200, return_sequences=True, activation='tanh', kernel_regularizer=tf.keras.regularizers.l2(0.0001))))\n",
    "model.add(tf.keras.layers.Dropout(0.5))\n",
    "model.add(tf.keras.layers.Bidirectional(tf.keras.layers.LSTM(100, return_sequences=True, activation='tanh', kernel_regularizer=tf.keras.regularizers.l2(0.001))))\n",
    "model.add(tf.keras.layers.Dropout(0.3))\n",
    "model.add(tf.keras.layers.Bidirectional(tf.keras.layers.LSTM(20, return_sequences=False, activation='tanh', kernel_regularizer=tf.keras.regularizers.l2(0.001))))\n",
    "model.add(tf.keras.layers.Dropout(0.3))\n",
    "model.add(tf.keras.layers.Dense(16, activation='relu', kernel_regularizer=tf.keras.regularizers.l2(0.0001)))\n",
    "\n",
    "model.add(tf.keras.layers.Dense(num_classes, activation='softmax'))\n",
    "\n",
    "model.compile(loss='binary_crossentropy',  # Можно использовать 'categorical_crossentropy' при более чем 2 классах\n",
    "              optimizer='adam',\n",
    "              metrics=['accuracy'])"
   ],
   "metadata": {
    "collapsed": false,
    "ExecuteTime": {
     "end_time": "2023-10-14T20:04:20.810732300Z",
     "start_time": "2023-10-14T20:04:18.799132800Z"
    }
   },
   "id": "821aa5518c975a53"
  },
  {
   "cell_type": "code",
   "execution_count": 20,
   "outputs": [],
   "source": [
    "# Оскільки наша модель може перенавчатися, зроибмо чекпоінт\n",
    "checkpoint_path = 'model/model_epoch_v6first{epoch:02d}.h5'\n",
    "checkpoint  = tf.keras.callbacks.ModelCheckpoint(checkpoint_path, save_best_only=False)"
   ],
   "metadata": {
    "collapsed": false,
    "ExecuteTime": {
     "end_time": "2023-10-14T20:04:33.900538300Z",
     "start_time": "2023-10-14T20:04:33.879274600Z"
    }
   },
   "id": "bb718c35adc56962"
  },
  {
   "cell_type": "code",
   "execution_count": null,
   "outputs": [
    {
     "name": "stdout",
     "output_type": "stream",
     "text": [
      "Epoch 1/10\n",
      "1094/1094 [==============================] - ETA: 0s - loss: 0.5482 - accuracy: 0.7670"
     ]
    },
    {
     "name": "stderr",
     "output_type": "stream",
     "text": [
      "C:\\Users\\lemes\\AppData\\Local\\Programs\\Python\\Python311\\Lib\\site-packages\\keras\\src\\engine\\training.py:3079: UserWarning: You are saving your model as an HDF5 file via `model.save()`. This file format is considered legacy. We recommend using instead the native Keras format, e.g. `model.save('my_model.keras')`.\n",
      "  saving_api.save_model(\n"
     ]
    },
    {
     "name": "stdout",
     "output_type": "stream",
     "text": [
      "1094/1094 [==============================] - 597s 537ms/step - loss: 0.5482 - accuracy: 0.7670 - val_loss: 0.4522 - val_accuracy: 0.7977\n",
      "Epoch 2/10\n",
      "1094/1094 [==============================] - 612s 560ms/step - loss: 0.3327 - accuracy: 0.8701 - val_loss: 0.4795 - val_accuracy: 0.7980\n",
      "Epoch 3/10\n",
      "1094/1094 [==============================] - 569s 520ms/step - loss: 0.2300 - accuracy: 0.9179 - val_loss: 0.5122 - val_accuracy: 0.7889\n",
      "Epoch 4/10\n",
      "1094/1094 [==============================] - 589s 539ms/step - loss: 0.1575 - accuracy: 0.9504 - val_loss: 0.7593 - val_accuracy: 0.7819\n",
      "Epoch 5/10\n",
      "1094/1094 [==============================] - 595s 544ms/step - loss: 0.1154 - accuracy: 0.9666 - val_loss: 0.7674 - val_accuracy: 0.7765\n",
      "Epoch 6/10\n",
      "1094/1094 [==============================] - 584s 534ms/step - loss: 0.0833 - accuracy: 0.9790 - val_loss: 0.8360 - val_accuracy: 0.7711\n",
      "Epoch 7/10\n",
      " 781/1094 [====================>.........] - ETA: 2:37 - loss: 0.0603 - accuracy: 0.9862"
     ]
    }
   ],
   "source": [
    "history = model.fit(x=train, y=target, validation_data=(test, target_test), callbacks=[checkpoint],  epochs=10)"
   ],
   "metadata": {
    "collapsed": false,
    "is_executing": true,
    "ExecuteTime": {
     "start_time": "2023-10-14T20:04:35.818670600Z"
    }
   },
   "id": "4178614b0a477da8"
  },
  {
   "cell_type": "code",
   "execution_count": 18,
   "outputs": [],
   "source": [
    "aproove_model = tf.keras.models.load_model('model/model_epoch_v502.h5')"
   ],
   "metadata": {
    "collapsed": false,
    "ExecuteTime": {
     "end_time": "2023-10-15T17:37:32.422398800Z",
     "start_time": "2023-10-15T17:37:25.896228800Z"
    }
   },
   "id": "88357466f111d247"
  },
  {
   "cell_type": "code",
   "execution_count": 19,
   "outputs": [
    {
     "name": "stdout",
     "output_type": "stream",
     "text": [
      "469/469 [==============================] - 35s 67ms/step - loss: 0.4461 - accuracy: 0.8129\n"
     ]
    },
    {
     "data": {
      "text/plain": "[0.4460711181163788, 0.8128666877746582]"
     },
     "execution_count": 19,
     "metadata": {},
     "output_type": "execute_result"
    }
   ],
   "source": [
    "aproove_model.evaluate(test, target_test)"
   ],
   "metadata": {
    "collapsed": false,
    "ExecuteTime": {
     "end_time": "2023-10-15T17:38:27.638753900Z",
     "start_time": "2023-10-15T17:37:52.920107700Z"
    }
   },
   "id": "7787047d4d536e2"
  },
  {
   "cell_type": "markdown",
   "source": [
    "Перевіримо вже на тих коментарях що в нас були\n",
    "\n",
    "Вирішив поділитися своїми враженнями від дворічного володінням Cadillac XT5. Рік виготовлення 2017. Повний привід, сучасний атмосферний двигун V6 об’ємом 3,6л., потужність 314 к.с. з системою відключення двох циліндрів, що дозволяє їхати як швидко розгін 7,5с. до 100 км./год.так, і за потреби, економно розхід по трасі може становити 7,5л./100 км.. Був придбаний на аукціоні з незначними пошкодженнями та пробігом 12 474 миль 20 тис.км.в 2021р. За два роки проїхав 12 тис. км. Перед ним у володінні була Ауді А4 2.0 TFSI Quattro, відповідно хотів придбати Audi Q5 до 2017р. випуску, проте потрібного варіанту не знаходилося. Всі Або були надто сильно пошкоджені, або по ціннику йшли далеко поза мій бюджет і ставали нецікавими/невигідними. Вирішив подивитися в бік біль рідкісних авто американського автопрому - Cadillac, Lincoln, Jeep. В результаті став щасливим власником Cadillac XT5 3,6 AWD. Велике, комфортне, непересічне авто, яке, ІМХО, варте уваги і дуже недооцінене у нас. Розміри між Q5 та Q7, великий багажник, хороший кліренс, якісні матеріали оздоблення. Авто абсолютно \"не кохає\" мізки. Після ремонту замінив рідини та фільтри й після того - виключно те, що потребував регламент. Оскільки це GM вартість фільтрів невелика. Оливу використовував Liqui Moly Molygen New Generation 5W-30, заміна раз на 10 тис. Авто чудово поводить себе як на добрих дорогах так і на недуже. Комфортне в далеких подорожах. Попри те що може швидко їхати, зовсім не провокує, як Ауді. Тут історія про комфорт та зручність. Багато місця в салоні та багажнику. Кліренс достатній для адекватних зїздів з асфальту в якийсь лісок чи за потреби десь проїхати взимку. Багато хто переживатиме за розхід, зважаючи на обєм двигуна - скажу так авто споживає не набагато більше ніж Ауді А4. В залежності від стилю їзди, місто 13-16л., траса 6,5-9 л. Вважаю, що для авто такого обєму/потужності, маси та розмірів це цілком адекватно. Хочу побажати потенційним покупцям даної марки не боятися, це \"американський мерседес\". З запчастинами зараз проблем немає. А гарний вигляд, непересічність авто точно не залишить вас непоміченими.\n",
    "\n",
    "Ніколи не звертайтеся до цього салону! ЛОХОТРОН! Розводять на кредит, на машину якої немає! Для того, щоб ви не пішли, утримують документи. Коли розуміють, що ти починаєш розуміти, що це розлучення, починають дуже грубо спілкуватися. Чи не ведіться! Вам розкажуть що машина десь скоро доставлять, тільки подайте на заявку на кредит, тільки ви ніколи не дізнаєтесь на яку суму вас подали.\n",
    "\n",
    "На жаль Спортлайф клуб для тих, хто не працює та особливо це стосуватися дітей. Навіщо взагалі продавати дитячий дитячий абонемент, якщо зверху за все потрібно доплачувати.\n",
    "В мене дитина 9 років відходила зі мною рік, коли ми працювали вдома, була можливість його водити, підлаштовуючи графік. При вимушеній роботі в офісі, всі заняття в робочий час. Завезти дитину на групове заняття по абонементу може або ти з наявністю або той дорослий, який має абонемент, або супровід за 80 грн(і це за 5 хв щоб провести латину через роздягальні до тренера), або платіть за платне групове(і тоді вийде тренер). Тобто альтернативи, щоб вийшов або зустрів тренер, який проводить заняття по абонементу - немає. Платіть зверху гроші. Висновок, дитина не хоче ходити. Домучаєм абонемент і більше не куплятимо.\n",
    "Вимагаєте договір, коли оплачуєте абонемент.\n",
    "Бо дитині нічого не можно, лише знаходитись в дитячій кімнаті та з дорослим, але ви тоді не тренуватись.\n",
    "\n",
    "Спорт лайф-то найгірша пропозиція в сучасному світі, мало того, що сервіс гірше не придумаєш ( тренери так собі, розклад групових лише для пенсіонерів та школярів) тай ще клуб на Дарниці закрили без попередження та права на заморозку у разі як що не хочу їздити в інший клуб, і це при такій вартості абонементів!!! Це все одно що в тебе вкрали півтора місяця від вартості абонементу в розмірі щонайменше 19 тис гривень."
   ],
   "metadata": {
    "collapsed": false
   },
   "id": "81cfc928a66fecc7"
  },
  {
   "cell_type": "code",
   "execution_count": 82,
   "outputs": [],
   "source": [
    "from googletrans import Translator\n",
    "translator = Translator()\n",
    "review = str(input('Введіть відгук для класифікацї'))\n",
    "review = translator.translate(review, src=\"uk\", dest=\"en\").text\n",
    "review = lema_and_stopwords(review, 'last')\n",
    "review = vectoriztion(review)"
   ],
   "metadata": {
    "collapsed": false,
    "ExecuteTime": {
     "end_time": "2023-10-15T18:10:49.503119800Z",
     "start_time": "2023-10-15T18:10:46.931811500Z"
    }
   },
   "id": "3666a72c54857ce"
  },
  {
   "cell_type": "code",
   "execution_count": 83,
   "outputs": [
    {
     "data": {
      "text/plain": "array([[  275,     1,    14,    44, 14860,   301,   120,  5259]],\n      dtype=int64)"
     },
     "execution_count": 83,
     "metadata": {},
     "output_type": "execute_result"
    }
   ],
   "source": [
    "review = np.expand_dims(review, axis=0)\n",
    "review"
   ],
   "metadata": {
    "collapsed": false,
    "ExecuteTime": {
     "end_time": "2023-10-15T18:10:51.415493200Z",
     "start_time": "2023-10-15T18:10:51.400047800Z"
    }
   },
   "id": "ca42704d3e730259"
  },
  {
   "cell_type": "code",
   "execution_count": 84,
   "outputs": [
    {
     "name": "stdout",
     "output_type": "stream",
     "text": [
      "1/1 [==============================] - 0s 94ms/step\n"
     ]
    }
   ],
   "source": [
    "rezult = aproove_model.predict(review)"
   ],
   "metadata": {
    "collapsed": false,
    "ExecuteTime": {
     "end_time": "2023-10-15T18:10:52.230738100Z",
     "start_time": "2023-10-15T18:10:52.073998700Z"
    }
   },
   "id": "6ea06e61664465ab"
  },
  {
   "cell_type": "code",
   "execution_count": 85,
   "outputs": [
    {
     "name": "stdout",
     "output_type": "stream",
     "text": [
      "positiv\n"
     ]
    }
   ],
   "source": [
    "if np.argmax(rezult) == 0:\n",
    "    print('positiv')\n",
    "else:\n",
    "    print('negativ')"
   ],
   "metadata": {
    "collapsed": false,
    "ExecuteTime": {
     "end_time": "2023-10-15T18:10:52.979952100Z",
     "start_time": "2023-10-15T18:10:52.964235Z"
    }
   },
   "id": "83d527956c7275f5"
  }
 ],
 "metadata": {
  "kernelspec": {
   "display_name": "Python 3",
   "language": "python",
   "name": "python3"
  },
  "language_info": {
   "codemirror_mode": {
    "name": "ipython",
    "version": 2
   },
   "file_extension": ".py",
   "mimetype": "text/x-python",
   "name": "python",
   "nbconvert_exporter": "python",
   "pygments_lexer": "ipython2",
   "version": "2.7.6"
  }
 },
 "nbformat": 4,
 "nbformat_minor": 5
}
